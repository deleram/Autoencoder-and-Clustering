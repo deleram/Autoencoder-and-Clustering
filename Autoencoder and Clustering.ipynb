{
 "cells": [
  {
   "cell_type": "code",
   "execution_count": 81,
   "metadata": {},
   "outputs": [
    {
     "name": "stdout",
     "output_type": "stream",
     "text": [
      "tensor([0.0000, 0.0000, 0.0000, 0.0000, 0.0000, 0.0000, 0.0000, 0.0000, 0.0000,\n",
      "        0.0000, 0.0000, 0.0000, 0.0000, 0.0000, 0.0000, 0.0000, 0.0000, 0.0000,\n",
      "        0.0000, 0.0000, 0.0000, 0.0000, 0.0000, 0.0000, 0.0000, 0.0000, 0.0000,\n",
      "        0.0000, 0.0000, 0.0000, 0.0000, 0.0000, 0.0000, 0.0000, 0.0000, 0.0000,\n",
      "        0.0000, 0.0000, 0.0000, 0.0000, 0.0000, 0.0000, 0.0000, 0.0000, 0.0000,\n",
      "        0.0000, 0.0000, 0.0000, 0.0000, 0.0000, 0.0000, 0.0000, 0.0000, 0.0000,\n",
      "        0.0000, 0.0000, 0.0000, 0.0000, 0.0000, 0.0000, 0.0000, 0.0000, 0.0000,\n",
      "        0.0000, 0.0000, 0.0000, 0.0000, 0.0000, 0.0000, 0.0000, 0.0000, 0.0000,\n",
      "        0.0000, 0.0000, 0.0000, 0.0000, 0.0000, 0.0000, 0.0000, 0.0000, 0.0000,\n",
      "        0.0000, 0.0000, 0.0000, 0.0000, 0.0000, 0.0000, 0.0000, 0.0000, 0.0000,\n",
      "        0.0000, 0.0000, 0.0000, 0.0000, 0.0000, 0.0000, 0.0000, 0.0000, 0.0000,\n",
      "        0.0000, 0.0000, 0.0000, 0.0000, 0.0000, 0.0000, 0.0000, 0.0000, 0.0000,\n",
      "        0.0000, 0.0000, 0.0000, 0.0000, 0.0000, 0.0000, 0.0000, 0.0000, 0.0000,\n",
      "        0.0000, 0.0000, 0.0000, 0.0000, 0.0000, 0.0000, 0.0000, 0.0000, 0.0000,\n",
      "        0.0000, 0.0000, 0.0000, 0.0000, 0.0000, 0.0000, 0.0000, 0.0000, 0.0000,\n",
      "        0.0000, 0.0000, 0.0000, 0.0000, 0.0000, 0.0000, 0.0000, 0.0000, 0.0000,\n",
      "        0.0000, 0.0000, 0.0000, 0.0000, 0.0000, 0.0000, 0.0000, 0.0000, 0.0000,\n",
      "        0.0000, 0.0000, 0.0000, 0.0000, 0.0000, 0.0000, 0.0000, 0.0000, 0.0000,\n",
      "        0.0000, 0.0000, 0.0000, 0.0000, 0.0000, 0.0000, 0.0000, 0.0000, 0.0000,\n",
      "        0.0000, 0.0000, 0.0000, 0.0000, 0.0000, 0.0000, 0.0000, 0.0000, 0.0000,\n",
      "        0.0000, 0.0000, 0.0000, 0.0000, 0.0000, 0.0000, 0.0000, 0.0000, 0.0000,\n",
      "        0.0000, 0.0000, 0.0000, 0.0000, 0.0000, 0.0000, 0.0000, 0.0000, 0.0000,\n",
      "        0.0000, 0.0000, 0.0000, 0.0000, 0.0000, 0.7725, 0.8902, 0.0863, 0.0353,\n",
      "        0.3255, 0.6549, 0.7765, 1.0000, 0.9961, 0.9961, 0.9961, 0.9961, 0.9961,\n",
      "        0.6667, 0.0000, 0.0000, 0.0000, 0.0000, 0.0000, 0.0000, 0.0000, 0.0000,\n",
      "        0.0000, 0.0000, 0.0000, 0.0000, 0.0000, 0.0000, 0.7686, 0.9922, 0.9922,\n",
      "        0.9922, 0.9922, 0.9922, 0.9725, 0.9294, 0.9059, 0.6039, 0.5647, 0.5020,\n",
      "        0.9922, 0.7647, 0.0000, 0.0000, 0.0000, 0.0000, 0.0000, 0.0000, 0.0000,\n",
      "        0.0000, 0.0000, 0.0000, 0.0000, 0.0000, 0.0000, 0.0000, 0.2000, 0.3098,\n",
      "        0.5725, 0.5725, 0.5725, 0.3804, 0.1725, 0.0000, 0.0000, 0.0000, 0.0000,\n",
      "        0.2980, 0.9922, 0.7647, 0.0000, 0.0000, 0.0000, 0.0000, 0.0000, 0.0000,\n",
      "        0.0000, 0.0000, 0.0000, 0.0000, 0.0000, 0.0000, 0.0000, 0.0000, 0.0000,\n",
      "        0.0000, 0.0000, 0.0000, 0.0000, 0.0000, 0.0000, 0.0000, 0.0000, 0.0000,\n",
      "        0.0196, 0.7529, 0.9647, 0.3569, 0.0000, 0.0000, 0.0000, 0.0000, 0.0000,\n",
      "        0.0000, 0.0000, 0.0000, 0.0000, 0.0000, 0.0000, 0.0000, 0.0000, 0.0000,\n",
      "        0.0000, 0.0000, 0.0000, 0.0000, 0.0000, 0.0000, 0.0000, 0.0000, 0.0000,\n",
      "        0.0000, 0.1294, 0.9922, 0.7451, 0.0000, 0.0000, 0.0000, 0.0000, 0.0000,\n",
      "        0.0000, 0.0000, 0.0000, 0.0000, 0.0000, 0.0000, 0.0000, 0.0000, 0.0000,\n",
      "        0.0000, 0.0000, 0.0000, 0.0000, 0.0000, 0.0000, 0.0000, 0.0000, 0.0000,\n",
      "        0.0000, 0.0000, 0.2980, 0.9608, 0.2824, 0.0000, 0.0000, 0.0000, 0.0000,\n",
      "        0.0000, 0.0000, 0.0000, 0.0000, 0.0000, 0.0000, 0.0000, 0.0000, 0.0000,\n",
      "        0.0000, 0.0000, 0.0000, 0.0000, 0.0000, 0.0000, 0.0000, 0.0000, 0.0000,\n",
      "        0.0000, 0.0000, 0.0000, 0.7294, 0.7569, 0.0000, 0.0000, 0.0000, 0.0000,\n",
      "        0.0000, 0.0000, 0.0000, 0.0000, 0.0000, 0.0000, 0.0000, 0.0000, 0.0000,\n",
      "        0.0000, 0.0000, 0.0000, 0.0000, 0.0000, 0.0000, 0.0000, 0.0000, 0.0000,\n",
      "        0.0000, 0.0000, 0.0000, 0.0902, 0.9725, 0.3255, 0.1333, 0.1176, 0.0000,\n",
      "        0.0000, 0.0000, 0.0000, 0.0000, 0.0000, 0.0000, 0.0000, 0.0000, 0.0000,\n",
      "        0.0000, 0.0000, 0.0000, 0.0000, 0.0000, 0.0000, 0.0000, 0.0000, 0.0000,\n",
      "        0.0000, 0.0000, 0.0000, 0.0000, 0.4941, 0.9922, 0.9412, 0.7490, 0.0706,\n",
      "        0.0000, 0.0000, 0.0000, 0.0000, 0.0000, 0.0000, 0.0000, 0.0000, 0.0000,\n",
      "        0.0000, 0.0000, 0.0000, 0.0000, 0.0000, 0.0000, 0.0000, 0.0000, 0.0000,\n",
      "        0.0000, 0.2000, 0.3216, 0.4392, 0.6627, 0.9843, 0.9490, 0.3608, 0.0157,\n",
      "        0.0000, 0.0000, 0.0000, 0.0000, 0.0000, 0.0000, 0.0000, 0.0000, 0.0000,\n",
      "        0.0000, 0.0000, 0.0000, 0.0000, 0.0000, 0.0000, 0.1922, 0.9333, 0.8902,\n",
      "        0.9961, 0.9961, 0.9961, 0.9961, 0.9765, 0.9843, 0.9608, 0.3529, 0.0000,\n",
      "        0.0000, 0.0000, 0.0000, 0.0000, 0.0000, 0.0000, 0.0000, 0.0000, 0.0000,\n",
      "        0.0000, 0.0000, 0.0000, 0.0000, 0.0000, 0.0000, 0.0000, 0.0392, 0.2863,\n",
      "        0.3490, 0.6039, 0.5216, 0.3922, 0.2863, 0.1176, 0.9098, 0.8941, 0.0000,\n",
      "        0.0000, 0.0000, 0.0000, 0.0000, 0.0000, 0.0000, 0.0000, 0.0000, 0.0000,\n",
      "        0.0000, 0.0000, 0.0000, 0.0000, 0.0000, 0.0000, 0.0000, 0.0000, 0.0000,\n",
      "        0.0000, 0.0000, 0.0000, 0.0000, 0.0000, 0.0000, 0.1686, 0.9922, 0.6235,\n",
      "        0.0000, 0.0000, 0.0000, 0.0000, 0.0000, 0.0000, 0.0000, 0.0000, 0.0000,\n",
      "        0.0000, 0.0000, 0.0000, 0.0000, 0.0000, 0.0000, 0.0000, 0.0000, 0.0000,\n",
      "        0.0000, 0.0000, 0.0000, 0.0000, 0.0000, 0.0000, 0.0000, 0.7490, 0.9412,\n",
      "        0.0588, 0.0000, 0.0000, 0.0000, 0.0000, 0.0000, 0.0000, 0.0000, 0.0000,\n",
      "        0.0000, 0.0000, 0.0000, 0.0000, 0.0000, 0.0000, 0.0000, 0.0000, 0.0000,\n",
      "        0.0000, 0.0000, 0.0000, 0.0000, 0.0000, 0.0000, 0.0000, 0.0549, 0.9961,\n",
      "        0.7725, 0.0000, 0.0000, 0.0000, 0.0000, 0.0000, 0.0000, 0.0000, 0.0000,\n",
      "        0.0000, 0.0000, 0.0000, 0.0000, 0.0000, 0.0000, 0.0000, 0.0000, 0.0000,\n",
      "        0.0000, 0.0000, 0.0000, 0.0000, 0.0000, 0.0000, 0.0000, 0.0000, 0.3843,\n",
      "        0.9765, 0.1922, 0.0000, 0.0000, 0.0000, 0.0000, 0.0000, 0.0000, 0.0000,\n",
      "        0.0000, 0.0000, 0.0000, 0.0000, 0.0000, 0.0000, 0.0000, 0.0000, 0.0000,\n",
      "        0.0000, 0.0000, 0.0000, 0.0000, 0.0000, 0.0000, 0.0000, 0.0000, 0.0000,\n",
      "        0.8196, 0.9608, 0.0000, 0.0000, 0.0000, 0.0000, 0.0000, 0.0000, 0.0000,\n",
      "        0.0000, 0.0000, 0.0000, 0.0000, 0.0000, 0.0000, 0.0000, 0.0000, 0.0000,\n",
      "        0.0000, 0.0000, 0.0000, 0.0000, 0.0000, 0.0000, 0.0000, 0.0000, 0.0000,\n",
      "        0.0000, 0.9608, 0.6706, 0.0000, 0.0000, 0.0000, 0.0000, 0.0000, 0.0000,\n",
      "        0.0000, 0.0000, 0.0000, 0.0000, 0.0000, 0.0000, 0.0000, 0.0000, 0.0000,\n",
      "        0.0000, 0.0000, 0.0000, 0.0000, 0.0000, 0.0000, 0.0000, 0.0000, 0.0000,\n",
      "        0.0000, 0.0863, 0.9725, 0.2510, 0.0000, 0.0000, 0.0000, 0.0000, 0.0000,\n",
      "        0.0000, 0.0000, 0.0000, 0.0000, 0.0000, 0.0000, 0.0000, 0.0000, 0.0000,\n",
      "        0.0000, 0.0000, 0.0000, 0.0000, 0.0000, 0.0000, 0.0000, 0.0000, 0.0000,\n",
      "        0.0000, 0.0000, 0.2902, 0.8863, 0.0000, 0.0000, 0.0000, 0.0000, 0.0000,\n",
      "        0.0000, 0.0000, 0.0000, 0.0000, 0.0000, 0.0000, 0.0000, 0.0000, 0.0000,\n",
      "        0.0000, 0.0000, 0.0000, 0.0000, 0.0000, 0.0000, 0.0000, 0.0000, 0.0000,\n",
      "        0.0000, 0.0000, 0.0000, 0.0000, 0.0000, 0.0000, 0.0000, 0.0000, 0.0000,\n",
      "        0.0000, 0.0000, 0.0000, 0.0000, 0.0000, 0.0000, 0.0000, 0.0000, 0.0000,\n",
      "        0.0000])\n"
     ]
    }
   ],
   "source": [
    "import torchvision.transforms as transforms\n",
    "import pandas as pd\n",
    "\n",
    "dfPath = r'labeled_train_set.csv'\n",
    "trainData = pd.read_csv(dfPath)\n",
    "df = pd.DataFrame(trainData)\n",
    "df_2 = df.iloc[:, 1:].values\n",
    "#transform values to pytorch tensor\n",
    "tensor_data = torch.tensor(df_2)\n",
    "#make them have values between 0 to 1\n",
    "normalized_tensor_data = tensor_data.float() / 255.0\n",
    "\n",
    "print(normalized_tensor_data[0])\n",
    "\n"
   ]
  },
  {
   "cell_type": "code",
   "execution_count": 72,
   "metadata": {},
   "outputs": [],
   "source": [
    "import torch\n",
    "# Make a loader to enable us to iterate with batches of 32\n",
    "loader = torch.utils.data.DataLoader(dataset = normalized_tensor_data, batch_size = 32, shuffle = True)"
   ]
  },
  {
   "cell_type": "code",
   "execution_count": 45,
   "metadata": {},
   "outputs": [],
   "source": [
    "# design our autoencoder\n",
    "\n",
    "# 28*28 -> 200 ->100 -> 50 -> 20 -> 10 -> 20 -> 50 -> 100 -> 200 -> 28*28\n",
    "# Takes torch neural network as super set\n",
    "class AE(torch.nn.Module):\n",
    "# Inherits init from torch.nn\n",
    "    def __init__(self):\n",
    "        super().__init__()\n",
    "\n",
    "    # Define encoder as sequence of layers you want and their activation functions\n",
    "    # We use ReLU as our activation function because it performed well in our last exercise, and \n",
    "    # It often performs well in neural networks. Additionally, due to its computational efficiency, it is a preferred choice\n",
    "\n",
    "        self.encoder = torch.nn.Sequential(\n",
    "            torch.nn.Linear(28 * 28, 200),\n",
    "            torch.nn.ReLU(),\n",
    "            torch.nn.Linear(200, 100),\n",
    "            torch.nn.ReLU(),\n",
    "            torch.nn.Linear(100, 50),\n",
    "            torch.nn.ReLU(),\n",
    "            torch.nn.Linear(50, 20),\n",
    "            torch.nn.ReLU(),\n",
    "            torch.nn.Linear(20, 10)\n",
    "        )\n",
    "\n",
    "    # The decoder is the reverse of the encoder, and it has the same structure. \n",
    "    # Since we normalized the data, we use a sigmoid function at the end of the decoder to predict numbers within the range of [0, 1].\n",
    "\n",
    "        self.decoder = torch.nn.Sequential(\n",
    "            torch.nn.Linear(10, 20),\n",
    "            torch.nn.ReLU(),\n",
    "            torch.nn.Linear(20, 50),\n",
    "            torch.nn.ReLU(),\n",
    "            torch.nn.Linear(50, 100),\n",
    "            torch.nn.ReLU(),\n",
    "            torch.nn.Linear(100, 200),\n",
    "            torch.nn.ReLU(),\n",
    "            torch.nn.Linear(200, 28 * 28),\n",
    "            torch.nn.Sigmoid()\n",
    "        )\n",
    "    # We show the series of actions taken in our Autoencoder\n",
    "    # First we encode and then we decode\n",
    "    # The output is our answer\n",
    "\n",
    "    def forward(self, x):\n",
    "        encoded = self.encoder(x)\n",
    "        decoded = self.decoder(encoded)\n",
    "        return decoded"
   ]
  },
  {
   "cell_type": "code",
   "execution_count": 48,
   "metadata": {},
   "outputs": [],
   "source": [
    "\n",
    "model = AE()\n",
    "\n",
    "# Create an optimzer. we used adams as it's so widely used in nn\n",
    "optimizer = torch.optim.Adam(model.parameters(), lr=1e-3,  weight_decay = 1e-8)\n",
    "\n",
    "# Beacuse our data is some how continues we use MSE as loss function\n",
    "\n",
    "loss_function = torch.nn.MSELoss()"
   ]
  },
  {
   "cell_type": "code",
   "execution_count": 58,
   "metadata": {},
   "outputs": [
    {
     "name": "stdout",
     "output_type": "stream",
     "text": [
      "epoch : 1/50, loss = 0.000053\n",
      "epoch : 10/50, loss = 0.000050\n",
      "epoch : 20/50, loss = 0.000048\n",
      "epoch : 30/50, loss = 0.000058\n",
      "epoch : 40/50, loss = 0.000053\n",
      "epoch : 50/50, loss = 0.000060\n"
     ]
    }
   ],
   "source": [
    "epochs = 50\n",
    "\n",
    "for epoch in range(epochs):\n",
    "    loss = 0\n",
    "    for batch_features in loader:\n",
    "        # Reshape each batch\n",
    "        batch_features = batch_features.reshape(-1, 28*28)\n",
    "        \n",
    "        # Reset the gradients for the new computations\n",
    "        optimizer.zero_grad()\n",
    "        \n",
    "        # Calculate the output of our encoder\n",
    "        outputs = model(batch_features)\n",
    "        \n",
    "        # Compute loss\n",
    "        loss = loss_function(outputs, batch_features)\n",
    "        \n",
    "        # Perform backpropagation\n",
    "        loss.backward()\n",
    "        \n",
    "        # Update parameters\n",
    "        optimizer.step()\n",
    "        \n",
    "\n",
    "        loss += loss.item()\n",
    "    \n",
    "    # Compute the epoch training loss\n",
    "    loss = loss / len(loader)\n",
    "    #print loss for 10*i th epoch\n",
    "    if(epoch%10 == 9 or epoch == 0):\n",
    "    # Display the epoch training loss\n",
    "        print(\"epoch : {}/{}, loss = {:.6f}\".format(epoch + 1, epochs, loss))"
   ]
  },
  {
   "cell_type": "code",
   "execution_count": null,
   "metadata": {},
   "outputs": [],
   "source": [
    "# Architectures and parameters are discussed in the report"
   ]
  },
  {
   "cell_type": "code",
   "execution_count": 76,
   "metadata": {},
   "outputs": [
    {
     "data": {
      "image/png": "[encoded data removed]",
      "text/plain": [
       "<Figure size 432x288 with 1 Axes>"
      ]
     },
     "metadata": {
      "needs_background": "light"
     },
     "output_type": "display_data"
    },
    {
     "data": {
      "image/png": "[encoded data removed]",
      "text/plain": [
       "<Figure size 432x288 with 1 Axes>"
      ]
     },
     "metadata": {
      "needs_background": "light"
     },
     "output_type": "display_data"
    }
   ],
   "source": [
    "import matplotlib.pyplot as plt\n",
    "\n",
    "image = next(iter(loader))\n",
    "for i, item in enumerate(image):\n",
    "    # Reshape the array for plotting\n",
    "    item = item.reshape(-1, 28, 28)\n",
    "    \n",
    "    # Convert the tensor to a NumPy array\n",
    "    item_np = item.detach().numpy()\n",
    "    \n",
    "    # Plot the image\n",
    "    plt.imshow(item_np[0])\n",
    "    plt.show()\n",
    "    \n",
    "    # Break out of the loop after plotting the first image\n",
    "    break\n",
    "\n",
    "for i, item in enumerate(model(image)):\n",
    "    item = item.reshape(-1, 28, 28)\n",
    "    \n",
    "    # Convert the tensor to a NumPy array\n",
    "    item_np = item.detach().numpy()\n",
    "    \n",
    "    # Plot the image\n",
    "    plt.imshow(item_np[0])\n",
    "    plt.show()\n",
    "    break\n",
    "# As you can see, after using the encoder, we obtained a significantly improved representation of the digits.\n",
    "# It can be considered as a denoising process. \n",
    "# Therefore, utilizing the autoencoder before classification assists in extracting enhanced features."
   ]
  },
  {
   "cell_type": "code",
   "execution_count": 86,
   "metadata": {},
   "outputs": [],
   "source": [
    "# Now we wanna apply the encoder on our data\n",
    "import numpy as np\n",
    "\n",
    "# Encode the data\n",
    "encoded_data = model.encoder(normalized_tensor_data)\n",
    "\n",
    "# Convert to NumPy arrays\n",
    "encoded_data_np = encoded_data.detach().numpy()\n",
    "labels = df['label']\n",
    "\n",
    "# Concatenate encoded data and labels\n",
    "data_with_labels = np.hstack((labels.values.reshape(-1, 1), encoded_data_np))\n",
    "\n",
    "# Create a DataFrame\n",
    "column_names = ['label'] + [f'feature{i+1}' for i in range(encoded_data_np.shape[1])]\n",
    "df_encoded = pd.DataFrame(data_with_labels, columns=column_names)\n",
    "\n",
    "# Save as CSV\n",
    "df_encoded.to_csv('encoded_data.csv', index=False)\n",
    "\n",
    "# Now we have our new features in a new csv called encoded_data.csv and we will use it for classification\n",
    "# The advantages will be discussed in the report"
   ]
  },
  {
   "cell_type": "code",
   "execution_count": 91,
   "metadata": {},
   "outputs": [
    {
     "name": "stdout",
     "output_type": "stream",
     "text": [
      "1\n",
      "2\n",
      "3\n"
     ]
    },
    {
     "name": "stderr",
     "output_type": "stream",
     "text": [
      "C:\\Users\\ASUS\\AppData\\Local\\Programs\\Python\\Python39\\lib\\site-packages\\sklearn\\neural_network\\_multilayer_perceptron.py:702: ConvergenceWarning: Stochastic Optimizer: Maximum iterations (1000) reached and the optimization hasn't converged yet.\n",
      "  warnings.warn(\n",
      "C:\\Users\\ASUS\\AppData\\Local\\Programs\\Python\\Python39\\lib\\site-packages\\sklearn\\neural_network\\_multilayer_perceptron.py:702: ConvergenceWarning: Stochastic Optimizer: Maximum iterations (1000) reached and the optimization hasn't converged yet.\n",
      "  warnings.warn(\n"
     ]
    },
    {
     "name": "stdout",
     "output_type": "stream",
     "text": [
      "4\n"
     ]
    },
    {
     "name": "stderr",
     "output_type": "stream",
     "text": [
      "C:\\Users\\ASUS\\AppData\\Local\\Programs\\Python\\Python39\\lib\\site-packages\\sklearn\\neural_network\\_multilayer_perceptron.py:702: ConvergenceWarning: Stochastic Optimizer: Maximum iterations (1000) reached and the optimization hasn't converged yet.\n",
      "  warnings.warn(\n"
     ]
    },
    {
     "name": "stdout",
     "output_type": "stream",
     "text": [
      "5\n",
      "6\n",
      "7\n",
      "8\n",
      "9\n",
      "10\n",
      "11\n"
     ]
    },
    {
     "name": "stderr",
     "output_type": "stream",
     "text": [
      "C:\\Users\\ASUS\\AppData\\Local\\Programs\\Python\\Python39\\lib\\site-packages\\sklearn\\neural_network\\_multilayer_perceptron.py:702: ConvergenceWarning: Stochastic Optimizer: Maximum iterations (1000) reached and the optimization hasn't converged yet.\n",
      "  warnings.warn(\n",
      "C:\\Users\\ASUS\\AppData\\Local\\Programs\\Python\\Python39\\lib\\site-packages\\sklearn\\neural_network\\_multilayer_perceptron.py:702: ConvergenceWarning: Stochastic Optimizer: Maximum iterations (1000) reached and the optimization hasn't converged yet.\n",
      "  warnings.warn(\n",
      "C:\\Users\\ASUS\\AppData\\Local\\Programs\\Python\\Python39\\lib\\site-packages\\sklearn\\neural_network\\_multilayer_perceptron.py:702: ConvergenceWarning: Stochastic Optimizer: Maximum iterations (1000) reached and the optimization hasn't converged yet.\n",
      "  warnings.warn(\n"
     ]
    },
    {
     "name": "stdout",
     "output_type": "stream",
     "text": [
      "12\n"
     ]
    },
    {
     "name": "stderr",
     "output_type": "stream",
     "text": [
      "C:\\Users\\ASUS\\AppData\\Local\\Programs\\Python\\Python39\\lib\\site-packages\\sklearn\\neural_network\\_multilayer_perceptron.py:702: ConvergenceWarning: Stochastic Optimizer: Maximum iterations (1000) reached and the optimization hasn't converged yet.\n",
      "  warnings.warn(\n",
      "C:\\Users\\ASUS\\AppData\\Local\\Programs\\Python\\Python39\\lib\\site-packages\\sklearn\\neural_network\\_multilayer_perceptron.py:702: ConvergenceWarning: Stochastic Optimizer: Maximum iterations (1000) reached and the optimization hasn't converged yet.\n",
      "  warnings.warn(\n",
      "C:\\Users\\ASUS\\AppData\\Local\\Programs\\Python\\Python39\\lib\\site-packages\\sklearn\\neural_network\\_multilayer_perceptron.py:702: ConvergenceWarning: Stochastic Optimizer: Maximum iterations (1000) reached and the optimization hasn't converged yet.\n",
      "  warnings.warn(\n"
     ]
    },
    {
     "name": "stdout",
     "output_type": "stream",
     "text": [
      "13\n",
      "14\n",
      "15\n",
      "16\n",
      "17\n",
      "18\n",
      "19\n"
     ]
    },
    {
     "name": "stderr",
     "output_type": "stream",
     "text": [
      "C:\\Users\\ASUS\\AppData\\Local\\Programs\\Python\\Python39\\lib\\site-packages\\sklearn\\neural_network\\_multilayer_perceptron.py:702: ConvergenceWarning: Stochastic Optimizer: Maximum iterations (1000) reached and the optimization hasn't converged yet.\n",
      "  warnings.warn(\n",
      "C:\\Users\\ASUS\\AppData\\Local\\Programs\\Python\\Python39\\lib\\site-packages\\sklearn\\neural_network\\_multilayer_perceptron.py:702: ConvergenceWarning: Stochastic Optimizer: Maximum iterations (1000) reached and the optimization hasn't converged yet.\n",
      "  warnings.warn(\n"
     ]
    },
    {
     "name": "stdout",
     "output_type": "stream",
     "text": [
      "20\n"
     ]
    },
    {
     "name": "stderr",
     "output_type": "stream",
     "text": [
      "C:\\Users\\ASUS\\AppData\\Local\\Programs\\Python\\Python39\\lib\\site-packages\\sklearn\\neural_network\\_multilayer_perceptron.py:702: ConvergenceWarning: Stochastic Optimizer: Maximum iterations (1000) reached and the optimization hasn't converged yet.\n",
      "  warnings.warn(\n",
      "C:\\Users\\ASUS\\AppData\\Local\\Programs\\Python\\Python39\\lib\\site-packages\\sklearn\\neural_network\\_multilayer_perceptron.py:702: ConvergenceWarning: Stochastic Optimizer: Maximum iterations (1000) reached and the optimization hasn't converged yet.\n",
      "  warnings.warn(\n",
      "C:\\Users\\ASUS\\AppData\\Local\\Programs\\Python\\Python39\\lib\\site-packages\\sklearn\\neural_network\\_multilayer_perceptron.py:702: ConvergenceWarning: Stochastic Optimizer: Maximum iterations (1000) reached and the optimization hasn't converged yet.\n",
      "  warnings.warn(\n"
     ]
    },
    {
     "name": "stdout",
     "output_type": "stream",
     "text": [
      "21\n",
      "22\n",
      "23\n",
      "24\n"
     ]
    }
   ],
   "source": [
    "# PART II\n",
    "\n",
    "# Import what's needed\n",
    "from sklearn.neural_network import MLPClassifier\n",
    "from sklearn.model_selection import cross_val_score, KFold\n",
    "\n",
    "# Load the labeled data\n",
    "df = pd.read_csv('encoded_data.csv')\n",
    "\n",
    "# Separate the features and labels\n",
    "X = df.iloc[:, 1:].values\n",
    "y = df['label'].values\n",
    "best_score = 0\n",
    "for hidden_layer_size in [(100,), (100, 25), (80, 50, 20)]:\n",
    "    for activations in ['relu', 'logistic', 'tanh', 'identity']:\n",
    "        for learning_rate in ['constant','adaptive']:\n",
    "            print(i)\n",
    "            i = i + 1\n",
    "            mlp = MLPClassifier(hidden_layer_sizes = hidden_layer_size, activation = activations, learning_rate = learning_rate, max_iter=1000)\n",
    "            scores = cross_val_score(mlp, X, y, cv=5)\n",
    "            average_score = scores.mean()\n",
    "\n",
    "            if average_score > best_score:\n",
    "                best_score = average_score\n",
    "                best_params = {'hidden' : hidden_layer_size, 'act':activations, 'learn':learning_rate}"
   ]
  },
  {
   "cell_type": "code",
   "execution_count": 94,
   "metadata": {},
   "outputs": [
    {
     "name": "stdout",
     "output_type": "stream",
     "text": [
      "0.9501111111111111\n",
      "{'hidden': (100,), 'act': 'relu', 'learn': 'adaptive'}\n"
     ]
    }
   ],
   "source": [
    "print(best_score)\n",
    "print(best_params)"
   ]
  },
  {
   "cell_type": "code",
   "execution_count": 101,
   "metadata": {},
   "outputs": [
    {
     "name": "stdout",
     "output_type": "stream",
     "text": [
      "Training done\n"
     ]
    }
   ],
   "source": [
    "best_mlp = MLPClassifier(hidden_layer_sizes = (100,), activation = 'relu'\n",
    "                         , learning_rate = 'adaptive'\n",
    "                         , max_iter=1000)\n",
    "# Now it's time to train the best model on our training set and then test in on our test set\n",
    "\n",
    "from sklearn.metrics import accuracy_score, confusion_matrix\n",
    "\n",
    "\n",
    "\n",
    "# we should change our test data to a 10-dimension data using our encoder\n",
    "df = pd.read_csv('test_set.csv')\n",
    "\n",
    "# Separate the features and labels\n",
    "X_test1 = df.iloc[:, 1:].values\n",
    "y_test = df['label'].values\n",
    "\n",
    "\n",
    "#transform values to pytorch tensor\n",
    "tensor_X = torch.tensor(X_test1).float()/255.0\n",
    "X_encoded_test = model.encoder(tensor_X)\n",
    "X_test = X_encoded_test.detach().numpy()\n",
    "\n",
    "best_mlp.fit(X, y)\n",
    "print('Training done')\n",
    "\n",
    "y_pred = best_mlp.predict(X_test)\n",
    "\n",
    "\n",
    "accuracy = accuracy_score(y_test, y_pred)\n",
    "confusion_mtx = confusion_matrix(y_test, y_pred)"
   ]
  },
  {
   "cell_type": "code",
   "execution_count": 108,
   "metadata": {},
   "outputs": [
    {
     "name": "stdout",
     "output_type": "stream",
     "text": [
      "For Test Data\n",
      "Accuracy :  0.9314\n",
      "[[ 954    0    1    1    0    7   11    0    2    4]\n",
      " [   0 1112    3    1    1    1    3    2   11    1]\n",
      " [   7    1  968   18    5    3    4    8   16    2]\n",
      " [   1    1   13  934    1   10    1    9   36    4]\n",
      " [   2    1    3    1  918    0   12    3    4   38]\n",
      " [  14    1    3   26    6  792    7    1   36    6]\n",
      " [  12    4    0    0   12   10  914    1    1    4]\n",
      " [   0    6   13    7    9    2    1  940    7   43]\n",
      " [   1    3    4   34    7   44    1    5  866    9]\n",
      " [   2    8    3   12   37    6    4    7   14  916]]\n",
      "For Train Data\n",
      "Accuracy :  0.9728333333333333\n",
      "[[ 954    0    1    1    0    7   11    0    2    4]\n",
      " [   0 1112    3    1    1    1    3    2   11    1]\n",
      " [   7    1  968   18    5    3    4    8   16    2]\n",
      " [   1    1   13  934    1   10    1    9   36    4]\n",
      " [   2    1    3    1  918    0   12    3    4   38]\n",
      " [  14    1    3   26    6  792    7    1   36    6]\n",
      " [  12    4    0    0   12   10  914    1    1    4]\n",
      " [   0    6   13    7    9    2    1  940    7   43]\n",
      " [   1    3    4   34    7   44    1    5  866    9]\n",
      " [   2    8    3   12   37    6    4    7   14  916]]\n"
     ]
    }
   ],
   "source": [
    "print(\"For Test Data\")\n",
    "print(\"Accuracy : \" , accuracy)\n",
    "print(confusion_mtx)\n",
    "print(\"For Train Data\")\n",
    "y_pred2 = best_mlp.predict(X)\n",
    "accuracy2 = accuracy_score(y, y_pred2)\n",
    "confusion_mtx2 = confusion_matrix(y_test, y_pred)\n",
    "print(\"Accuracy : \" , accuracy2)\n",
    "print(confusion_mtx2)"
   ]
  },
  {
   "cell_type": "code",
   "execution_count": null,
   "metadata": {},
   "outputs": [],
   "source": [
    "# part III\n",
    "# because our data is so sparse we perform dimension reduction using autoencoders\n",
    "\n",
    "from sklearn.cluster import KMeans\n",
    "df = pd.read_csv('test_set.csv')\n",
    "\n",
    "# Separate the features and labels\n",
    "X_test1 = df.iloc[:, 1:].values\n",
    "y_test = df['label'].values\n",
    "\n",
    "\n",
    "#transform values to pytorch tensor\n",
    "tensor_X = torch.tensor(X_test1).float()/255.0\n",
    "X_encoded_test = model.encoder(tensor_X)\n",
    "X_test = X_encoded_test.detach().numpy()\n",
    "\n",
    "\n",
    "# Step 2: Prepare your data\n",
    "# Assuming you have your data stored in a variable called 'data'\n",
    "\n",
    "# Step 3: Choose the number of clusters (K)\n",
    "num_clusters = 3\n",
    "\n",
    "# Step 4: Create the K-means model\n",
    "kmeans = KMeans(n_clusters=num_clusters)\n",
    "\n",
    "# Step 5: Train the model\n",
    "kmeans.fit(data)\n",
    "\n",
    "# Step 6: Obtain cluster labels\n",
    "cluster_labels = kmeans.labels_\n",
    "\n",
    "# Print the cluster labels\n",
    "print(\"Cluster Labels:\")\n",
    "print(cluster_labels)\n"
   ]
  }
 ],
 "metadata": {
  "kernelspec": {
   "display_name": "Python 3",
   "language": "python",
   "name": "python3"
  },
  "language_info": {
   "codemirror_mode": {
    "name": "ipython",
    "version": 3
   },
   "file_extension": ".py",
   "mimetype": "text/x-python",
   "name": "python",
   "nbconvert_exporter": "python",
   "pygments_lexer": "ipython3",
   "version": "3.9.1"
  }
 },
 "nbformat": 4,
 "nbformat_minor": 4
}
